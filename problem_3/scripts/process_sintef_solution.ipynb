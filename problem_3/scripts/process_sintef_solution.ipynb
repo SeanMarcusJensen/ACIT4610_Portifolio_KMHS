{
 "cells": [
  {
   "cell_type": "code",
   "execution_count": null,
   "metadata": {},
   "outputs": [],
   "source": [
    "import numpy as np"
   ]
  },
  {
   "cell_type": "code",
   "execution_count": 15,
   "metadata": {},
   "outputs": [
    {
     "name": "stdout",
     "output_type": "stream",
     "text": [
      "{'1': array([81, 78, 76, 71, 70, 73, 77, 79, 80]), '2': array([57, 55, 54, 53, 56, 58, 60, 59]), '3': array([ 98,  96,  95,  94,  92,  93,  97, 100,  99]), '4': array([32, 33, 31, 35, 37, 38, 39, 36, 34]), '5': array([13, 17, 18, 19, 15, 16, 14, 12]), '6': array([90, 87, 86, 83, 82, 84, 85, 88, 89, 91]), '7': array([43, 42, 41, 40, 44, 46, 45, 48, 51, 50, 52, 49, 47]), '8': array([67, 65, 63, 62, 74, 72, 61, 64, 68, 66, 69]), '9': array([ 5,  3,  7,  8, 10, 11,  9,  6,  4,  2,  1, 75]), '10': array([20, 24, 25, 27, 29, 30, 28, 26, 23, 22, 21])}\n"
     ]
    }
   ],
   "source": [
    "# Read the file\n",
    "with open('../data/raw/sintef_routes.txt', 'r') as f:\n",
    "    lines = f.readlines()\n",
    "\n",
    "# Remove all boilerplate text\n",
    "routes = list(filter(lambda x: x.startswith(\"Route\"), lines))\n",
    "\n",
    "# Remove '\\n' from the end of each line\n",
    "routes = list(map(lambda x: x.strip(), routes))\n",
    "routes = {route.split(\":\")[0].strip(\"Route \"): np.array(route.split(\":\")[1].split(), dtype=int) for route in routes}\n",
    "\n",
    "print(routes)"
   ]
  }
 ],
 "metadata": {
  "kernelspec": {
   "display_name": "acit4610_3",
   "language": "python",
   "name": "python3"
  },
  "language_info": {
   "codemirror_mode": {
    "name": "ipython",
    "version": 3
   },
   "file_extension": ".py",
   "mimetype": "text/x-python",
   "name": "python",
   "nbconvert_exporter": "python",
   "pygments_lexer": "ipython3",
   "version": "3.11.9"
  }
 },
 "nbformat": 4,
 "nbformat_minor": 2
}
