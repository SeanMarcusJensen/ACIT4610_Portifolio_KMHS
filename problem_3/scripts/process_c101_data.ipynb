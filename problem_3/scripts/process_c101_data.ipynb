{
 "cells": [
  {
   "cell_type": "markdown",
   "metadata": {},
   "source": [
    "# Info\n",
    "\n",
    "Basic script for turning the text on Salomon's site into a usefull dataframe."
   ]
  },
  {
   "cell_type": "code",
   "execution_count": 1,
   "metadata": {},
   "outputs": [],
   "source": [
    "import os\n",
    "import pandas as pd"
   ]
  },
  {
   "cell_type": "markdown",
   "metadata": {},
   "source": [
    "# Parse Text Data\n",
    "Data source [http://web.cba.neu.edu/~msolomon/c101.htm]"
   ]
  },
  {
   "cell_type": "code",
   "execution_count": 2,
   "metadata": {},
   "outputs": [],
   "source": [
    "PATH = os.path.abspath(os.path.join(os.getcwd(), '..', 'data'))\n",
    "def parse_text_to_dataframe(file_path: str) -> pd.DataFrame:\n",
    "    with open(file_path, 'r') as f:\n",
    "        lines = f.readlines()\n",
    "\n",
    "    header = lines[0].strip().split('  ')\n",
    "    header.remove('')\n",
    "    header = [col.strip() for col in header]\n",
    "\n",
    "    body = lines[1:]\n",
    "    cleaned_body = [row.split() for row in body]\n",
    "    dataframe = pd.DataFrame(columns=header, data=cleaned_body)\n",
    "    return dataframe\n",
    "\n",
    "dataframe = parse_text_to_dataframe(os.path.join(PATH, 'raw','tests_c101.txt'))"
   ]
  },
  {
   "cell_type": "code",
   "execution_count": 3,
   "metadata": {},
   "outputs": [
    {
     "data": {
      "text/html": [
       "<div>\n",
       "<style scoped>\n",
       "    .dataframe tbody tr th:only-of-type {\n",
       "        vertical-align: middle;\n",
       "    }\n",
       "\n",
       "    .dataframe tbody tr th {\n",
       "        vertical-align: top;\n",
       "    }\n",
       "\n",
       "    .dataframe thead th {\n",
       "        text-align: right;\n",
       "    }\n",
       "</style>\n",
       "<table border=\"1\" class=\"dataframe\">\n",
       "  <thead>\n",
       "    <tr style=\"text-align: right;\">\n",
       "      <th></th>\n",
       "      <th>CUST NO.</th>\n",
       "      <th>XCOORD.</th>\n",
       "      <th>YCOORD.</th>\n",
       "      <th>DEMAND</th>\n",
       "      <th>READY TIME</th>\n",
       "      <th>DUE DATE</th>\n",
       "      <th>SERVICE TIME</th>\n",
       "    </tr>\n",
       "  </thead>\n",
       "  <tbody>\n",
       "    <tr>\n",
       "      <th>0</th>\n",
       "      <td>1</td>\n",
       "      <td>40.00</td>\n",
       "      <td>50.00</td>\n",
       "      <td>0.00</td>\n",
       "      <td>0.00</td>\n",
       "      <td>1236.00</td>\n",
       "      <td>0.00</td>\n",
       "    </tr>\n",
       "    <tr>\n",
       "      <th>1</th>\n",
       "      <td>2</td>\n",
       "      <td>45.00</td>\n",
       "      <td>68.00</td>\n",
       "      <td>10.00</td>\n",
       "      <td>912.00</td>\n",
       "      <td>967.00</td>\n",
       "      <td>90.00</td>\n",
       "    </tr>\n",
       "    <tr>\n",
       "      <th>2</th>\n",
       "      <td>3</td>\n",
       "      <td>45.00</td>\n",
       "      <td>70.00</td>\n",
       "      <td>30.00</td>\n",
       "      <td>825.00</td>\n",
       "      <td>870.00</td>\n",
       "      <td>90.00</td>\n",
       "    </tr>\n",
       "    <tr>\n",
       "      <th>3</th>\n",
       "      <td>4</td>\n",
       "      <td>42.00</td>\n",
       "      <td>66.00</td>\n",
       "      <td>10.00</td>\n",
       "      <td>65.00</td>\n",
       "      <td>146.00</td>\n",
       "      <td>90.00</td>\n",
       "    </tr>\n",
       "    <tr>\n",
       "      <th>4</th>\n",
       "      <td>5</td>\n",
       "      <td>42.00</td>\n",
       "      <td>68.00</td>\n",
       "      <td>10.00</td>\n",
       "      <td>727.00</td>\n",
       "      <td>782.00</td>\n",
       "      <td>90.00</td>\n",
       "    </tr>\n",
       "  </tbody>\n",
       "</table>\n",
       "</div>"
      ],
      "text/plain": [
       "  CUST NO. XCOORD. YCOORD. DEMAND READY TIME DUE DATE SERVICE TIME\n",
       "0        1   40.00   50.00   0.00       0.00  1236.00         0.00\n",
       "1        2   45.00   68.00  10.00     912.00   967.00        90.00\n",
       "2        3   45.00   70.00  30.00     825.00   870.00        90.00\n",
       "3        4   42.00   66.00  10.00      65.00   146.00        90.00\n",
       "4        5   42.00   68.00  10.00     727.00   782.00        90.00"
      ]
     },
     "execution_count": 3,
     "metadata": {},
     "output_type": "execute_result"
    }
   ],
   "source": [
    "dataframe.head()"
   ]
  },
  {
   "cell_type": "code",
   "execution_count": 4,
   "metadata": {},
   "outputs": [],
   "source": [
    "dataframe.rename(columns={'CUST NO.': 'CustomerNO',\n",
    "                          'XCOORD.': 'Lng',\n",
    "                          'YCOORD.': 'Lat',\n",
    "                          'DEMAND': 'Demand',\n",
    "                          'READY TIME': 'ReadyTime',\n",
    "                          'DUE DATE': 'Due',\n",
    "                          'SERVICE TIME': 'ServiceTime'}, inplace=True)"
   ]
  },
  {
   "cell_type": "code",
   "execution_count": 5,
   "metadata": {},
   "outputs": [
    {
     "data": {
      "text/html": [
       "<div>\n",
       "<style scoped>\n",
       "    .dataframe tbody tr th:only-of-type {\n",
       "        vertical-align: middle;\n",
       "    }\n",
       "\n",
       "    .dataframe tbody tr th {\n",
       "        vertical-align: top;\n",
       "    }\n",
       "\n",
       "    .dataframe thead th {\n",
       "        text-align: right;\n",
       "    }\n",
       "</style>\n",
       "<table border=\"1\" class=\"dataframe\">\n",
       "  <thead>\n",
       "    <tr style=\"text-align: right;\">\n",
       "      <th></th>\n",
       "      <th>CustomerNO</th>\n",
       "      <th>Lng</th>\n",
       "      <th>Lat</th>\n",
       "      <th>Demand</th>\n",
       "      <th>ReadyTime</th>\n",
       "      <th>Due</th>\n",
       "      <th>ServiceTime</th>\n",
       "    </tr>\n",
       "  </thead>\n",
       "  <tbody>\n",
       "    <tr>\n",
       "      <th>0</th>\n",
       "      <td>1</td>\n",
       "      <td>40.00</td>\n",
       "      <td>50.00</td>\n",
       "      <td>0.00</td>\n",
       "      <td>0.00</td>\n",
       "      <td>1236.00</td>\n",
       "      <td>0.00</td>\n",
       "    </tr>\n",
       "    <tr>\n",
       "      <th>1</th>\n",
       "      <td>2</td>\n",
       "      <td>45.00</td>\n",
       "      <td>68.00</td>\n",
       "      <td>10.00</td>\n",
       "      <td>912.00</td>\n",
       "      <td>967.00</td>\n",
       "      <td>90.00</td>\n",
       "    </tr>\n",
       "    <tr>\n",
       "      <th>2</th>\n",
       "      <td>3</td>\n",
       "      <td>45.00</td>\n",
       "      <td>70.00</td>\n",
       "      <td>30.00</td>\n",
       "      <td>825.00</td>\n",
       "      <td>870.00</td>\n",
       "      <td>90.00</td>\n",
       "    </tr>\n",
       "    <tr>\n",
       "      <th>3</th>\n",
       "      <td>4</td>\n",
       "      <td>42.00</td>\n",
       "      <td>66.00</td>\n",
       "      <td>10.00</td>\n",
       "      <td>65.00</td>\n",
       "      <td>146.00</td>\n",
       "      <td>90.00</td>\n",
       "    </tr>\n",
       "    <tr>\n",
       "      <th>4</th>\n",
       "      <td>5</td>\n",
       "      <td>42.00</td>\n",
       "      <td>68.00</td>\n",
       "      <td>10.00</td>\n",
       "      <td>727.00</td>\n",
       "      <td>782.00</td>\n",
       "      <td>90.00</td>\n",
       "    </tr>\n",
       "  </tbody>\n",
       "</table>\n",
       "</div>"
      ],
      "text/plain": [
       "  CustomerNO    Lng    Lat Demand ReadyTime      Due ServiceTime\n",
       "0          1  40.00  50.00   0.00      0.00  1236.00        0.00\n",
       "1          2  45.00  68.00  10.00    912.00   967.00       90.00\n",
       "2          3  45.00  70.00  30.00    825.00   870.00       90.00\n",
       "3          4  42.00  66.00  10.00     65.00   146.00       90.00\n",
       "4          5  42.00  68.00  10.00    727.00   782.00       90.00"
      ]
     },
     "execution_count": 5,
     "metadata": {},
     "output_type": "execute_result"
    }
   ],
   "source": [
    "dataframe.head()"
   ]
  },
  {
   "cell_type": "markdown",
   "metadata": {},
   "source": [
    "# Store data."
   ]
  },
  {
   "cell_type": "code",
   "execution_count": 6,
   "metadata": {},
   "outputs": [],
   "source": [
    "dataframe.to_csv(os.path.join(PATH, 'processed', \"c101.csv\"), index=True)"
   ]
  }
 ],
 "metadata": {
  "kernelspec": {
   "display_name": "acit4610_3",
   "language": "python",
   "name": "python3"
  },
  "language_info": {
   "codemirror_mode": {
    "name": "ipython",
    "version": 3
   },
   "file_extension": ".py",
   "mimetype": "text/x-python",
   "name": "python",
   "nbconvert_exporter": "python",
   "pygments_lexer": "ipython3",
   "version": "3.11.9"
  }
 },
 "nbformat": 4,
 "nbformat_minor": 2
}
