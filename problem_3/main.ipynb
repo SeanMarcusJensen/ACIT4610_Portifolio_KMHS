{
 "cells": [
  {
   "cell_type": "markdown",
   "metadata": {},
   "source": []
  },
  {
   "cell_type": "code",
   "execution_count": 1,
   "metadata": {},
   "outputs": [],
   "source": [
    "import numpy as np\n",
    "from numpy.typing import NDArray\n",
    "import matplotlib.pyplot as plt\n",
    "import pandas as pd\n",
    "from typing import List\n",
    "\n",
    "from utils.plotters import plot_solution\n",
    "from utils.data_loaders import read_solution\n",
    "from utils.models import Customer, Route, RunningSheet\n",
    "from utils.log import LoggerFactory\n",
    "\n",
    "from aco.colony import Colony\n",
    "\n",
    "logger_factory = LoggerFactory()"
   ]
  },
  {
   "cell_type": "markdown",
   "metadata": {},
   "source": [
    "## [1] Load Data"
   ]
  },
  {
   "cell_type": "code",
   "execution_count": null,
   "metadata": {},
   "outputs": [],
   "source": [
    "SOLUTION = read_solution('data/raw/sintef_routes.txt')\n",
    "locations = pd.read_csv('data/processed/c101.csv')\n",
    "solution_locations = np.sum([len(route) for _, route in SOLUTION.items()])\n",
    "print(f\"Number of Locations in Customers[{len(locations)}], Solution[{solution_locations}]\")\n",
    "locations.head()"
   ]
  },
  {
   "cell_type": "code",
   "execution_count": null,
   "metadata": {},
   "outputs": [],
   "source": [
    "\"\"\" Descriptive Statistics of the Customers.\n",
    "iloc[1:] is used to exclude the depot from the statistics.\n",
    "\"\"\"\n",
    "locations.iloc[1:].describe()"
   ]
  },
  {
   "cell_type": "markdown",
   "metadata": {},
   "source": [
    "## [1.1] Optimal Solution"
   ]
  },
  {
   "cell_type": "code",
   "execution_count": null,
   "metadata": {},
   "outputs": [],
   "source": [
    "plot_solution(locations, SOLUTION)"
   ]
  },
  {
   "cell_type": "markdown",
   "metadata": {},
   "source": [
    "## [2] Preprocessing\n",
    "\n",
    "### [2.1] Remove origin\n",
    "This dataset consists of 100 customers. But as you can see above, we currently have 101 rows. This is because the first index is the 'Driveout' location / 'Origin'. Thus, we need to remove this from the customers_data."
   ]
  },
  {
   "cell_type": "code",
   "execution_count": 5,
   "metadata": {},
   "outputs": [],
   "source": [
    "origin = locations.iloc[0]"
   ]
  },
  {
   "cell_type": "code",
   "execution_count": null,
   "metadata": {},
   "outputs": [],
   "source": [
    "plt.title(f'Customer Locations: {len(locations) - 1}')\n",
    "plt.scatter(locations.iloc[1:]['Lng'], locations.iloc[1:]['Lat'])\n",
    "plt.scatter(origin['Lng'], origin['Lat'], color='red')\n",
    "plt.xlabel('Longitude')\n",
    "plt.ylabel('Latitude')\n",
    "plt.legend(['Customers', 'Drive Out'])\n",
    "plt.grid(linestyle='--', alpha=0.5)\n",
    "plt.show()"
   ]
  },
  {
   "cell_type": "markdown",
   "metadata": {},
   "source": [
    "## [3] Problem\n",
    "\n",
    "**REFERENCES**\n",
    "\n",
    "Mirjalili, Ali, *Youtube*, https://www.youtube.com/watch?v=783ZtAF4j5g\n",
    "(Cannot use graphs, must use matrixes for the mathematical modelling)[11:30]\n",
    "\n",
    "• Depot: The starting and ending point for all vehicles. \n",
    "• Customers: Each customer has a location, a demand for goods, a time window for \n",
    "receiving the delivery, and a service time. \n",
    "• Vehicles:  Each  vehicle  has  a  limited  capacity  and  must  return  to  the  depot  after \n",
    "completing its route. \n",
    "\n",
    "### [3.1] Constraints\n",
    "1. Each customer is visited exactly once by one vehicle. \n",
    "2. Deliveries occur within the specified time windows. \n",
    "3. The total demand on any route does not exceed the vehicle's capacity."
   ]
  },
  {
   "cell_type": "markdown",
   "metadata": {},
   "source": [
    "## Constants [PARAMETERS]"
   ]
  },
  {
   "cell_type": "code",
   "execution_count": 7,
   "metadata": {},
   "outputs": [],
   "source": [
    "\"\"\" HYPERPARAMETERS \"\"\"\n",
    "ALPHA = .5\n",
    "BETA = .6\n",
    "TAU = 1\n",
    "EVAPORATION_RATE = .5\n",
    "\n",
    "\"\"\" PARAMETERS \"\"\"\n",
    "N_VEHICLES = 10\n",
    "N_ITERATIONS = 2\n",
    "VEHICLE_CAPACITY = 200\n",
    "MATRIX_SHAPE = (len(locations), len(locations), N_ITERATIONS + 1) # +1 for convenience in the training loop.\n",
    "\n",
    "\"\"\" PARAMETER CHECKS \"\"\"\n",
    "assert N_VEHICLES * VEHICLE_CAPACITY >= len(locations) - 1, \"Not enough capacity to serve all customers\"\n",
    "assert 0 <= EVAPORATION_RATE <= 1, \"Evaporation rate must be between 0 and 1\"\n",
    "assert 0 <= ALPHA <= 1, \"Alpha must be between 0 and 1\"\n",
    "assert 0 <= BETA <= 1, \"Beta must be between 0 and 1\"\n",
    "\n",
    "assert MATRIX_SHAPE == (101, 101, N_ITERATIONS + 1), \"Matrix shape must be (101, 101, 10)\""
   ]
  },
  {
   "cell_type": "code",
   "execution_count": null,
   "metadata": {},
   "outputs": [],
   "source": [
    "colony = Colony(RunningSheet.from_pd(locations, logger_factory), logger_factory)\n",
    "best_route = colony.optimize(N_ITER=2, N_VEHICLES=10, CAPACITY=200, ALPHA=0.5, BETA=0.5, TAU=1.0, Q=0.5, P=0.5)"
   ]
  },
  {
   "cell_type": "code",
   "execution_count": null,
   "metadata": {},
   "outputs": [],
   "source": [
    "print(f\"Best Route: {best_route}\")"
   ]
  },
  {
   "cell_type": "code",
   "execution_count": null,
   "metadata": {},
   "outputs": [],
   "source": [
    "plt.title(f'Customer Locations: {len(locations) - 1}')\n",
    "plt.scatter(locations.iloc[1:]['Lng'], locations.iloc[1:]['Lat'])\n",
    "plt.scatter(origin['Lng'], origin['Lat'], color='red')\n",
    "plt.xlabel('Longitude')\n",
    "plt.ylabel('Latitude')\n",
    "\n",
    "lats = [best_route[0].from_customer.lat] + [b.to_customer.lat for b in best_route]\n",
    "lngs= [best_route[0].from_customer.lng] + [b.to_customer.lng for b in best_route]\n",
    "\n",
    "plt.plot(lngs, lats, color='black')\n",
    "\n",
    "plt.legend(['Customers', 'Drive Out'])\n",
    "plt.grid(linestyle='--', alpha=0.5)\n",
    "plt.show()"
   ]
  },
  {
   "cell_type": "markdown",
   "metadata": {},
   "source": [
    "## Variable Initializations"
   ]
  },
  {
   "cell_type": "code",
   "execution_count": 10,
   "metadata": {},
   "outputs": [],
   "source": [
    "\"\"\" Initialize Pheromone Table\n",
    "SHAPE: (i, j, t) -> (location i, location j, iteration t) -> (101 customer location x 101 customer location x 10 iterations).\n",
    "All start at TAU.\n",
    "\"\"\"\n",
    "pheromone_table = np.full(MATRIX_SHAPE, dtype=np.float64, fill_value=TAU)\n",
    "\n",
    "\"\"\" Initialize Distance Table\n",
    "SHAPE: (i, j) -> (location i, location j) -> (101 customer location x 101 customer location).\n",
    "DEPOT = (0, 0)\n",
    "Location i = j is 0 because it is the same location.\n",
    "Formula to calculate distance between two locations: sqrt((x1 - x2)^2 + (y1 - y2)^2). Distance between customer i and customer j.\n",
    "\"\"\"\n",
    "DISTANCE_TABLE = np.array([[(np.sqrt((customer['Lat'] - other['Lat'])**2 + (customer['Lng']- other['Lng'])**2)) for _, other in locations.iterrows()] for _, customer in locations.iterrows()])\n",
    "assert DISTANCE_TABLE.shape == (101, 101), \"Distance table shape must be (101, 101)\""
   ]
  },
  {
   "cell_type": "markdown",
   "metadata": {},
   "source": [
    "### Ant move to node probability formula\n",
    "**We should set allowed to only be the most near neighbours**\n",
    "\n",
    "$$P_{ij}(t) =\\frac{[\\tau_{ij}(t)]^\\alpha * [n_{ij}]^\\beta}{\\sum_{k \\in allowed}[\\tau_{ik}(t)]^\\alpha * [n_{ik}]^\\beta}$$"
   ]
  },
  {
   "cell_type": "code",
   "execution_count": 11,
   "metadata": {},
   "outputs": [],
   "source": [
    "class Vehicle:\n",
    "    def __init__(self, id: int, capacity: int, depot: Customer):\n",
    "        self.id = id\n",
    "        self.capacity = capacity\n",
    "        self.depot = depot\n",
    "\n",
    "        self.current_load = 0.0\n",
    "        self.current_time = 0.0\n",
    "\n",
    "        self.route: List[Route] = []\n",
    "        self.current_customer = depot\n",
    "        self.shift_end = depot.due_time\n",
    "\n",
    "        self.is_retired = False\n",
    "    \n",
    "    def restart_route(self) -> None:\n",
    "        self.current_customer = self.depot\n",
    "        self.current_time = 0.0 # Start at 10:00\n",
    "        self.current_load = 0.0\n",
    "        self.is_retired = False\n",
    "    \n",
    "    def get_total_distance(self) -> float:\n",
    "        return sum([route.distance() for route in self.route])\n",
    "    \n",
    "    def move_to_depot(self) -> Route:\n",
    "        route = self.add_customer(self.depot)\n",
    "        return route\n",
    "\n",
    "    def find_next_customer(self, outstanding_customers: list[Customer], pheromone: NDArray[np.float64], distance: NDArray[np.float64], alpha: float, beta: float) -> Customer | None:\n",
    "        allowed_customers = [customer for customer in outstanding_customers if self.can_accommodate(customer)]\n",
    "\n",
    "        if len(allowed_customers) == 0:\n",
    "            self.is_retired = True\n",
    "            return None\n",
    "        \n",
    "        if len(allowed_customers) == 1:\n",
    "            return allowed_customers[0]\n",
    "\n",
    "        def calculate_probability_at_node(i: int, j: int, allowed: List[int], pheromone: np.ndarray, distance: np.ndarray, alpha: float, beta: float) -> float:\n",
    "            objective = (distance[i, j] ** beta)\n",
    "            nominator = (pheromone[i, j] ** alpha) * objective\n",
    "            denominator = np.array([(pheromone[i, k] ** alpha) * (distance[i, k] ** beta) for k in allowed]).sum()\n",
    "            return nominator / denominator\n",
    "\n",
    "        allowed_indices = [customer.customer_no for customer in allowed_customers]\n",
    "        probabilities = [calculate_probability_at_node(self.current_customer.customer_no, j, allowed_indices, pheromone, distance, alpha, beta) for j in allowed_indices]\n",
    "\n",
    "        cumulative_sum = np.cumsum(probabilities)\n",
    "        random_number = np.random.rand()\n",
    "\n",
    "        node = - 1\n",
    "        for index, cumulative_prob in enumerate(cumulative_sum):\n",
    "            if random_number <= cumulative_prob:\n",
    "                node = index\n",
    "        \n",
    "        assert node != -1, \"No node was selected.\"\n",
    "\n",
    "        return allowed_customers[node]\n",
    "        \n",
    "    def is_at_depot(self) -> bool:\n",
    "        return self.current_customer == self.depot\n",
    "\n",
    "    def add_customer(self, customer: Customer) -> Route:\n",
    "        # Ensure the vehicle can do the customer\n",
    "        route = Route(self.current_customer, customer) # Will be used to do much more cool thing!\n",
    "        print(customer)\n",
    "\n",
    "        self.route.append(route)\n",
    "        self.current_customer = customer\n",
    "\n",
    "        self.current_load += customer.demand\n",
    "\n",
    "        # Does not account for waiting time (such as driving distance to the customer)\n",
    "        print(f\"Vehicle {self.id} is at customer {customer.customer_no}. Load: {self.current_load}, Distance: {self.get_total_distance()}, Time: {self.current_time}\")\n",
    "        self.current_time += customer.service_time\n",
    "        print(f\"Vehicle {self.id} is done with customer {customer.customer_no}, service-time{customer.service_time}. Time: {self.current_time}\")\n",
    "        return route\n",
    "    \n",
    "    def can_accommodate(self, customer: Customer) -> bool:\n",
    "        if not self.is_within_time_window(customer):\n",
    "            print(f\"Cannot do customer {customer.customer_no} because it is outside the time window.\")\n",
    "            return False\n",
    "\n",
    "        # Calculate the total load if the customer is added\n",
    "        total_load = self.current_load + customer.demand\n",
    "        \n",
    "        # Check if the total load exceeds the vehicle's load limit\n",
    "        if total_load <= self.capacity:\n",
    "            return True\n",
    "        else:\n",
    "            print(f\"Cannot accommodate customer {customer.customer_no} due to load limit.\")\n",
    "            return False\n",
    "    \n",
    "    def is_within_time_window(self, customer: Customer) -> bool:\n",
    "        is_customer_ready = self.current_time >= customer.ready_time\n",
    "        print(f\"Customer {customer.customer_no} is ready[{customer.ready_time}]: {is_customer_ready}. Current time: {self.current_time}\")\n",
    "\n",
    "        is_within_customer_due = self.current_time <= customer.due_time\n",
    "        print(f\"Customer {customer.customer_no} is within due time[{customer.due_time}]: {is_within_customer_due}, Current time: {self.current_time}\")\n",
    "\n",
    "        is_within_depot_due = (self.current_time + customer.service_time) <= self.depot.due_time\n",
    "        print(f\"Customer {customer.customer_no} is within depot due time[{self.depot.due_time}]: {is_within_depot_due}, Current time: {self.current_time}\")\n",
    "\n",
    "        return is_customer_ready and is_within_customer_due and is_within_depot_due\n",
    "    \n",
    "    def __len__(self) -> int:\n",
    "        \"\"\" Gets the number of customers in the route.\n",
    "\n",
    "        Returns:\n",
    "            int: Number of customers in the route. \n",
    "        \"\"\"\n",
    "        return len(self.route)"
   ]
  },
  {
   "cell_type": "code",
   "execution_count": null,
   "metadata": {},
   "outputs": [],
   "source": [
    "customers = RunningSheet.from_pd(locations, logger_factory)\n",
    "distance_table = customers.get_distance_table()\n",
    "\n",
    "vehicles = [Vehicle(id + 1, VEHICLE_CAPACITY, customers.depot) for id in range(N_VEHICLES)]\n",
    "\n",
    "assert all(vehicle.is_at_depot() for vehicle in vehicles), \"All vehicles are not starting at the depot.[Constraint Violation]\"\n",
    "assert all(vehicle.current_load == 0 for vehicle in vehicles), \"All vehicles do not have a load of 0.\"\n",
    "assert not customers.all_completed(), \"All customers are already completed.\""
   ]
  },
  {
   "cell_type": "code",
   "execution_count": null,
   "metadata": {},
   "outputs": [],
   "source": [
    "Q = 1\n",
    "# Assuming vehicles is a list of Vehicle objects and customer_pool is a list of Customer objects\n",
    "for t in range(N_ITERATIONS):\n",
    "    \"\"\" Prepare the pheromone table for next iteration.\n",
    "    This means that we evaporate the peromones for the next iteration, even iteration + 1, because of convenience.\n",
    "    FORMULA: t_{i,j} <- (1 - EVAPORATION_RATE) * t_{i,j}\n",
    "    \"\"\"\n",
    "    pheromone_table[:, :, t + 1] = (1 - EVAPORATION_RATE) * pheromone_table[:, :, t] # Evaporate Pheromones\n",
    "\n",
    "    customers.reset()\n",
    "\n",
    "    for vehicle in vehicles:\n",
    "        vehicle.restart_route()\n",
    "        while True:\n",
    "            next_customer = vehicle.find_next_customer(customers.get_remaining_customers(), pheromone_table[:, :, t], distance_table, ALPHA, BETA)\n",
    "            if next_customer is None:\n",
    "                break\n",
    "            \n",
    "            try:\n",
    "                print(f\"Vehicle {vehicle.id} is moving to customer {next_customer.customer_no}.\")\n",
    "                route = vehicle.add_customer(next_customer)\n",
    "                \"\"\" Do not know if we should complete customer or not, before after all vehicles has done their turn.\"\"\"\n",
    "                next_customer.complete()\n",
    "\n",
    "                \"\"\" Update Pheromones on the route (trail) i, j.\n",
    "                Formula: sum_k(Q / L_k) where L_k is the total distance of the route. 0 if no route.\n",
    "                FORMULA: t_{i,j} <- t_{i,j} + (Q * (1 / L_k))\n",
    "                k is for all vehicles. But since we are doing it for each vehicle, we can just add Q / L_k.\n",
    "                \"\"\"\n",
    "                delta_t_ij = 1 / route.distance()\n",
    "                pheromone_table[route.from_customer.customer_no, route.to_customer.customer_no, t + 1] += (Q / delta_t_ij)# t + 1 for convenience.\n",
    "            except AssertionError as e:\n",
    "                print(f\"Error: {e}\")\n",
    "                break  # Stop if an error occurs\n",
    "\n",
    "        route = vehicle.move_to_depot() # Add the depot to the end of the route\n",
    "        if route.distance() != 0.0:\n",
    "            delta_t_ij = 1 / route.distance()\n",
    "            pheromone_table[route.from_customer.customer_no, route.to_customer.customer_no, t + 1] += (Q / delta_t_ij) # t + 1 for convenience."
   ]
  },
  {
   "cell_type": "code",
   "execution_count": null,
   "metadata": {},
   "outputs": [],
   "source": [
    "for vehicle in vehicles:\n",
    "    print(f\"Vehicle {vehicle.id} - Load: {vehicle.current_load}, Distance: {vehicle.get_total_distance()}, Route: {vehicle.route}\")\n",
    "\n",
    "print(f\"Customers: {customers.all_completed()}\")"
   ]
  },
  {
   "cell_type": "code",
   "execution_count": null,
   "metadata": {},
   "outputs": [],
   "source": [
    "print(SOLUTION)"
   ]
  },
  {
   "cell_type": "code",
   "execution_count": null,
   "metadata": {},
   "outputs": [],
   "source": [
    "plt.title(f'Customer Locations: {len(locations) - 1}')\n",
    "plt.scatter(locations.iloc[1:]['Lng'], locations.iloc[1:]['Lat'])\n",
    "plt.scatter(origin['Lng'], origin['Lat'], color='red')\n",
    "plt.xlabel('Longitude')\n",
    "plt.ylabel('Latitude')\n",
    "plt.grid(linestyle='--', alpha=0.5)\n",
    "\n",
    "for vehicle in vehicles:\n",
    "    route = vehicle.route\n",
    "    lats = [customer.lat for customer in route]\n",
    "    lngs = [customer.lng for customer in route]\n",
    "    plt.plot(lngs, lats, label=f'Vehicle {vehicle.id}')\n",
    "\n",
    "plt.legend(['Customers', 'Drive Out', 'Route 1', 'Route 2', 'Route 3', 'Route 4', 'Route 5', 'Route 6', 'Route 7', 'Route 8', 'Route 9', 'Route 10'])\n",
    "plt.show()"
   ]
  }
 ],
 "metadata": {
  "kernelspec": {
   "display_name": "acit4610_3",
   "language": "python",
   "name": "python3"
  },
  "language_info": {
   "codemirror_mode": {
    "name": "ipython",
    "version": 3
   },
   "file_extension": ".py",
   "mimetype": "text/x-python",
   "name": "python",
   "nbconvert_exporter": "python",
   "pygments_lexer": "ipython3",
   "version": "3.11.9"
  }
 },
 "nbformat": 4,
 "nbformat_minor": 2
}
