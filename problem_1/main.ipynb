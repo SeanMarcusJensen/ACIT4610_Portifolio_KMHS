{
 "cells": [
  {
   "cell_type": "code",
   "execution_count": 18,
   "metadata": {},
   "outputs": [],
   "source": [
    "import os\n",
    "import pandas as pd\n",
    "import numpy as np\n",
    "import matplotlib.pyplot as plt\n",
    "\n",
    "from importlib import reload\n",
    "\n",
    "import utils.data_loader\n",
    "reload(utils.data_loader)\n",
    "from utils.data_loader import load_data"
   ]
  },
  {
   "cell_type": "markdown",
   "metadata": {},
   "source": [
    "# Download data"
   ]
  },
  {
   "cell_type": "code",
   "execution_count": 15,
   "metadata": {},
   "outputs": [],
   "source": [
    "DATA_PATH = os.path.join(os.getcwd(), \"data\", \"raw\")\n",
    "\n",
    "segment_df, traffic_df = load_data(DATA_PATH)"
   ]
  },
  {
   "cell_type": "code",
   "execution_count": 16,
   "metadata": {},
   "outputs": [
    {
     "data": {
      "text/html": [
       "<div>\n",
       "<style scoped>\n",
       "    .dataframe tbody tr th:only-of-type {\n",
       "        vertical-align: middle;\n",
       "    }\n",
       "\n",
       "    .dataframe tbody tr th {\n",
       "        vertical-align: top;\n",
       "    }\n",
       "\n",
       "    .dataframe thead th {\n",
       "        text-align: right;\n",
       "    }\n",
       "</style>\n",
       "<table border=\"1\" class=\"dataframe\">\n",
       "  <thead>\n",
       "    <tr style=\"text-align: right;\">\n",
       "      <th></th>\n",
       "      <th>ID</th>\n",
       "      <th>SPEED</th>\n",
       "      <th>TRAVEL_TIME</th>\n",
       "      <th>DATA_AS_OF</th>\n",
       "      <th>LINK_ID</th>\n",
       "      <th>LINK_POINTS</th>\n",
       "      <th>BOROUGH</th>\n",
       "      <th>LINK_NAME</th>\n",
       "    </tr>\n",
       "  </thead>\n",
       "  <tbody>\n",
       "    <tr>\n",
       "      <th>0</th>\n",
       "      <td>170</td>\n",
       "      <td>39.14</td>\n",
       "      <td>96</td>\n",
       "      <td>09/24/2024 09:04:11 AM</td>\n",
       "      <td>4616356</td>\n",
       "      <td>40.6665206,-73.76246 40.66738,-73.77021 40.667...</td>\n",
       "      <td>Queens</td>\n",
       "      <td>Belt Pkwy W 182nd St - JFK Expressway</td>\n",
       "    </tr>\n",
       "    <tr>\n",
       "      <th>1</th>\n",
       "      <td>170</td>\n",
       "      <td>39.76</td>\n",
       "      <td>95</td>\n",
       "      <td>09/24/2024 09:09:12 AM</td>\n",
       "      <td>4616356</td>\n",
       "      <td>40.6665206,-73.76246 40.66738,-73.77021 40.667...</td>\n",
       "      <td>Queens</td>\n",
       "      <td>Belt Pkwy W 182nd St - JFK Expressway</td>\n",
       "    </tr>\n",
       "    <tr>\n",
       "      <th>2</th>\n",
       "      <td>170</td>\n",
       "      <td>39.76</td>\n",
       "      <td>94</td>\n",
       "      <td>09/24/2024 09:14:10 AM</td>\n",
       "      <td>4616356</td>\n",
       "      <td>40.6665206,-73.76246 40.66738,-73.77021 40.667...</td>\n",
       "      <td>Queens</td>\n",
       "      <td>Belt Pkwy W 182nd St - JFK Expressway</td>\n",
       "    </tr>\n",
       "    <tr>\n",
       "      <th>3</th>\n",
       "      <td>170</td>\n",
       "      <td>40.38</td>\n",
       "      <td>93</td>\n",
       "      <td>09/24/2024 09:19:10 AM</td>\n",
       "      <td>4616356</td>\n",
       "      <td>40.6665206,-73.76246 40.66738,-73.77021 40.667...</td>\n",
       "      <td>Queens</td>\n",
       "      <td>Belt Pkwy W 182nd St - JFK Expressway</td>\n",
       "    </tr>\n",
       "    <tr>\n",
       "      <th>4</th>\n",
       "      <td>170</td>\n",
       "      <td>39.14</td>\n",
       "      <td>96</td>\n",
       "      <td>09/24/2024 09:24:10 AM</td>\n",
       "      <td>4616356</td>\n",
       "      <td>40.6665206,-73.76246 40.66738,-73.77021 40.667...</td>\n",
       "      <td>Queens</td>\n",
       "      <td>Belt Pkwy W 182nd St - JFK Expressway</td>\n",
       "    </tr>\n",
       "  </tbody>\n",
       "</table>\n",
       "</div>"
      ],
      "text/plain": [
       "    ID  SPEED  TRAVEL_TIME              DATA_AS_OF  LINK_ID  \\\n",
       "0  170  39.14           96  09/24/2024 09:04:11 AM  4616356   \n",
       "1  170  39.76           95  09/24/2024 09:09:12 AM  4616356   \n",
       "2  170  39.76           94  09/24/2024 09:14:10 AM  4616356   \n",
       "3  170  40.38           93  09/24/2024 09:19:10 AM  4616356   \n",
       "4  170  39.14           96  09/24/2024 09:24:10 AM  4616356   \n",
       "\n",
       "                                         LINK_POINTS BOROUGH  \\\n",
       "0  40.6665206,-73.76246 40.66738,-73.77021 40.667...  Queens   \n",
       "1  40.6665206,-73.76246 40.66738,-73.77021 40.667...  Queens   \n",
       "2  40.6665206,-73.76246 40.66738,-73.77021 40.667...  Queens   \n",
       "3  40.6665206,-73.76246 40.66738,-73.77021 40.667...  Queens   \n",
       "4  40.6665206,-73.76246 40.66738,-73.77021 40.667...  Queens   \n",
       "\n",
       "                               LINK_NAME  \n",
       "0  Belt Pkwy W 182nd St - JFK Expressway  \n",
       "1  Belt Pkwy W 182nd St - JFK Expressway  \n",
       "2  Belt Pkwy W 182nd St - JFK Expressway  \n",
       "3  Belt Pkwy W 182nd St - JFK Expressway  \n",
       "4  Belt Pkwy W 182nd St - JFK Expressway  "
      ]
     },
     "execution_count": 16,
     "metadata": {},
     "output_type": "execute_result"
    }
   ],
   "source": [
    "df.head()"
   ]
  },
  {
   "cell_type": "code",
   "execution_count": null,
   "metadata": {},
   "outputs": [],
   "source": []
  }
 ],
 "metadata": {
  "kernelspec": {
   "display_name": "base",
   "language": "python",
   "name": "python3"
  },
  "language_info": {
   "codemirror_mode": {
    "name": "ipython",
    "version": 3
   },
   "file_extension": ".py",
   "mimetype": "text/x-python",
   "name": "python",
   "nbconvert_exporter": "python",
   "pygments_lexer": "ipython3",
   "version": "3.11.5"
  }
 },
 "nbformat": 4,
 "nbformat_minor": 2
}
