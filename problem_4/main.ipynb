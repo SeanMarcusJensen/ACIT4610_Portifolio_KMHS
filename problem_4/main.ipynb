{
 "cells": [
  {
   "cell_type": "code",
   "execution_count": 1,
   "metadata": {},
   "outputs": [
    {
     "name": "stderr",
     "output_type": "stream",
     "text": [
      "2024-10-19 14:43:13.359818: I tensorflow/core/util/port.cc:153] oneDNN custom operations are on. You may see slightly different numerical results due to floating-point round-off errors from different computation orders. To turn them off, set the environment variable `TF_ENABLE_ONEDNN_OPTS=0`.\n",
      "2024-10-19 14:43:13.367119: E external/local_xla/xla/stream_executor/cuda/cuda_fft.cc:485] Unable to register cuFFT factory: Attempting to register factory for plugin cuFFT when one has already been registered\n",
      "2024-10-19 14:43:13.374588: E external/local_xla/xla/stream_executor/cuda/cuda_dnn.cc:8454] Unable to register cuDNN factory: Attempting to register factory for plugin cuDNN when one has already been registered\n",
      "2024-10-19 14:43:13.376832: E external/local_xla/xla/stream_executor/cuda/cuda_blas.cc:1452] Unable to register cuBLAS factory: Attempting to register factory for plugin cuBLAS when one has already been registered\n",
      "2024-10-19 14:43:13.383145: I tensorflow/core/platform/cpu_feature_guard.cc:210] This TensorFlow binary is optimized to use available CPU instructions in performance-critical operations.\n",
      "To enable the following instructions: AVX2 AVX512F AVX512_VNNI AVX512_BF16 FMA, in other operations, rebuild TensorFlow with the appropriate compiler flags.\n",
      "2024-10-19 14:43:13.772306: W tensorflow/compiler/tf2tensorrt/utils/py_utils.cc:38] TF-TRT Warning: Could not find TensorRT\n"
     ]
    }
   ],
   "source": [
    "import gym\n",
    "import numpy as np\n",
    "import tensorflow as tf\n",
    "import matplotlib.pyplot as plt\n",
    "\n",
    "from agents import BasicQLearningAgent, DeepQLearningAgent, Taxi\n"
   ]
  },
  {
   "cell_type": "markdown",
   "metadata": {},
   "source": [
    "# [TASK-1] Overview of the Environment.\n",
    "\n",
    "## Grid\n",
    "\n",
    "The taxi can move on all nodes except $X$.\n",
    "\n",
    "For each step it takes, it will be given $-1$ rewards, if successfully deliver passenger $+20$ reward points is granted. On failure on pickup and dropoff $-10$ reward points are granted.\n",
    "\n",
    "$$\n",
    "\\begin{bmatrix}\n",
    "\\text{RED}_{11} & x_{12} & \\text{X} & x_{14} & \\text{GREEN}_{15} \\\\\n",
    "x_{21} & x_{22} & \\text{X} & x_{24} & x_{25} \\\\\n",
    "x_{31} & x_{32} & x_{33} & x_{34} & x_{35} \\\\\n",
    "x_{41} & \\text{X} & x_{43} & x_{44} & x_{45} \\\\\n",
    "\\text{YELLOW}_{51} & \\text{X} & x_53 & \\text{BLUE}_{54} & x_{55}\n",
    "\\end{bmatrix}\n",
    "$$\n",
    "\n",
    "## Actions\n",
    "0: move south\n",
    "\n",
    "1: move north\n",
    "\n",
    "2: move east\n",
    "\n",
    "3: move west\n",
    "\n",
    "4: pickup passenger\n",
    "\n",
    "5: drop off passenger\n",
    "\n",
    "## Observation space.\n",
    "\n",
    "The taxi can dropoff passanger on (0)$\\text{RED}_{11}$, (1)$\\text{GREEN}_{15}$, (2)$\\text{YELLOW}_{51}$, (3)$\\text{BLUE}_{54}$.\n",
    "That means that the passanger can be on all these stats, and additionally (4)$\\text{in taxi}$.\n",
    "\n",
    "The grid is **5x5** resulting in **25** different locations for the taxi.\n",
    "\n",
    "$4_{destinations} * 5_{passanger_locations} * 25_{nodes} = 500_{states}$"
   ]
  },
  {
   "cell_type": "code",
   "execution_count": 3,
   "metadata": {},
   "outputs": [],
   "source": [
    "basic = BasicQLearningAgent(\n",
    "    LEARNING_RATE=0.4,\n",
    "    DISCOUNT_FACTOR=0.6,\n",
    "    EPSILON=1.0,\n",
    "    EPSILON_DECAY=0.0001,\n",
    "    EPSILON_MIN=0.01\n",
    ")\n",
    "\n",
    "Taxi.run(basic, n_episodes=1000, is_training=True)\n",
    "Taxi.run(basic, n_episodes=2, is_training=False)\n"
   ]
  }
 ],
 "metadata": {
  "kernelspec": {
   "display_name": "acit4610_4",
   "language": "python",
   "name": "python3"
  },
  "language_info": {
   "codemirror_mode": {
    "name": "ipython",
    "version": 3
   },
   "file_extension": ".py",
   "mimetype": "text/x-python",
   "name": "python",
   "nbconvert_exporter": "python",
   "pygments_lexer": "ipython3",
   "version": "3.11.9"
  }
 },
 "nbformat": 4,
 "nbformat_minor": 2
}
