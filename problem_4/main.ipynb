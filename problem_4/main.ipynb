{
 "cells": [
  {
   "cell_type": "code",
   "execution_count": 1,
   "metadata": {},
   "outputs": [
    {
     "name": "stderr",
     "output_type": "stream",
     "text": [
      "2024-10-19 15:29:53.039949: I tensorflow/core/util/port.cc:153] oneDNN custom operations are on. You may see slightly different numerical results due to floating-point round-off errors from different computation orders. To turn them off, set the environment variable `TF_ENABLE_ONEDNN_OPTS=0`.\n",
      "2024-10-19 15:29:53.047272: E external/local_xla/xla/stream_executor/cuda/cuda_fft.cc:485] Unable to register cuFFT factory: Attempting to register factory for plugin cuFFT when one has already been registered\n",
      "2024-10-19 15:29:53.054626: E external/local_xla/xla/stream_executor/cuda/cuda_dnn.cc:8454] Unable to register cuDNN factory: Attempting to register factory for plugin cuDNN when one has already been registered\n",
      "2024-10-19 15:29:53.056830: E external/local_xla/xla/stream_executor/cuda/cuda_blas.cc:1452] Unable to register cuBLAS factory: Attempting to register factory for plugin cuBLAS when one has already been registered\n",
      "2024-10-19 15:29:53.063005: I tensorflow/core/platform/cpu_feature_guard.cc:210] This TensorFlow binary is optimized to use available CPU instructions in performance-critical operations.\n",
      "To enable the following instructions: AVX2 AVX512F AVX512_VNNI AVX512_BF16 FMA, in other operations, rebuild TensorFlow with the appropriate compiler flags.\n",
      "2024-10-19 15:29:53.451664: W tensorflow/compiler/tf2tensorrt/utils/py_utils.cc:38] TF-TRT Warning: Could not find TensorRT\n"
     ]
    },
    {
     "ename": "ModuleNotFoundError",
     "evalue": "No module named 'abstraction'",
     "output_type": "error",
     "traceback": [
      "\u001b[0;31m---------------------------------------------------------------------------\u001b[0m",
      "\u001b[0;31mModuleNotFoundError\u001b[0m                       Traceback (most recent call last)",
      "Cell \u001b[0;32mIn[1], line 6\u001b[0m\n\u001b[1;32m      3\u001b[0m \u001b[38;5;28;01mimport\u001b[39;00m \u001b[38;5;21;01mtensorflow\u001b[39;00m \u001b[38;5;28;01mas\u001b[39;00m \u001b[38;5;21;01mtf\u001b[39;00m\n\u001b[1;32m      4\u001b[0m \u001b[38;5;28;01mimport\u001b[39;00m \u001b[38;5;21;01mmatplotlib\u001b[39;00m\u001b[38;5;21;01m.\u001b[39;00m\u001b[38;5;21;01mpyplot\u001b[39;00m \u001b[38;5;28;01mas\u001b[39;00m \u001b[38;5;21;01mplt\u001b[39;00m\n\u001b[0;32m----> 6\u001b[0m \u001b[38;5;28;01mfrom\u001b[39;00m \u001b[38;5;21;01magents\u001b[39;00m \u001b[38;5;28;01mimport\u001b[39;00m BasicQLearningAgent, DeepQLearningAgent, Taxi\n",
      "File \u001b[0;32m~/ACIT/ACIT4610/ACIT4610_Portifolio_KMHS/problem_4/agents/__init__.py:2\u001b[0m\n\u001b[1;32m      1\u001b[0m \u001b[38;5;28;01mfrom\u001b[39;00m \u001b[38;5;21;01m.\u001b[39;00m\u001b[38;5;21;01mqlearning\u001b[39;00m \u001b[38;5;28;01mimport\u001b[39;00m BasicQLearningAgent\n\u001b[0;32m----> 2\u001b[0m \u001b[38;5;28;01mfrom\u001b[39;00m \u001b[38;5;21;01m.\u001b[39;00m\u001b[38;5;21;01mdeep_q_learning\u001b[39;00m \u001b[38;5;28;01mimport\u001b[39;00m DeepQLearningAgent\n\u001b[1;32m      3\u001b[0m \u001b[38;5;28;01mfrom\u001b[39;00m \u001b[38;5;21;01m.\u001b[39;00m\u001b[38;5;21;01mtaxi\u001b[39;00m \u001b[38;5;28;01mimport\u001b[39;00m Taxi\n",
      "File \u001b[0;32m~/ACIT/ACIT4610/ACIT4610_Portifolio_KMHS/problem_4/agents/deep_q_learning.py:10\u001b[0m\n\u001b[1;32m      8\u001b[0m \u001b[38;5;28;01mimport\u001b[39;00m \u001b[38;5;21;01mkeras\u001b[39;00m\n\u001b[1;32m      9\u001b[0m \u001b[38;5;28;01mimport\u001b[39;00m \u001b[38;5;21;01mtensorflow\u001b[39;00m \u001b[38;5;28;01mas\u001b[39;00m \u001b[38;5;21;01mtf\u001b[39;00m\n\u001b[0;32m---> 10\u001b[0m \u001b[38;5;28;01mfrom\u001b[39;00m \u001b[38;5;21;01mabstraction\u001b[39;00m \u001b[38;5;28;01mimport\u001b[39;00m Agent\n\u001b[1;32m     13\u001b[0m \u001b[38;5;28;01mclass\u001b[39;00m \u001b[38;5;21;01mExperienceReplayBuffer\u001b[39;00m:\n\u001b[1;32m     14\u001b[0m     \u001b[38;5;28;01mdef\u001b[39;00m \u001b[38;5;21m__init__\u001b[39m(\u001b[38;5;28mself\u001b[39m, buffer_size: \u001b[38;5;28mint\u001b[39m):\n",
      "\u001b[0;31mModuleNotFoundError\u001b[0m: No module named 'abstraction'"
     ]
    }
   ],
   "source": [
    "import gym\n",
    "import numpy as np\n",
    "import tensorflow as tf\n",
    "import matplotlib.pyplot as plt\n",
    "\n",
    "from agents import BasicQLearningAgent, DeepQLearningAgent, Taxi\n"
   ]
  },
  {
   "cell_type": "markdown",
   "metadata": {},
   "source": [
    "# [TASK-1] Overview of the Environment.\n",
    "\n",
    "## Grid\n",
    "\n",
    "The taxi can move on all nodes except $X$.\n",
    "\n",
    "For each step it takes, it will be given $-1$ rewards, if successfully deliver passenger $+20$ reward points is granted. On failure on pickup and dropoff $-10$ reward points are granted.\n",
    "\n",
    "$$\n",
    "\\begin{bmatrix}\n",
    "\\text{RED}_{11} & x_{12} & \\text{X} & x_{14} & \\text{GREEN}_{15} \\\\\n",
    "x_{21} & x_{22} & \\text{X} & x_{24} & x_{25} \\\\\n",
    "x_{31} & x_{32} & x_{33} & x_{34} & x_{35} \\\\\n",
    "x_{41} & \\text{X} & x_{43} & x_{44} & x_{45} \\\\\n",
    "\\text{YELLOW}_{51} & \\text{X} & x_53 & \\text{BLUE}_{54} & x_{55}\n",
    "\\end{bmatrix}\n",
    "$$\n",
    "\n",
    "## Actions\n",
    "0: move south\n",
    "\n",
    "1: move north\n",
    "\n",
    "2: move east\n",
    "\n",
    "3: move west\n",
    "\n",
    "4: pickup passenger\n",
    "\n",
    "5: drop off passenger\n",
    "\n",
    "## Observation space.\n",
    "\n",
    "The taxi can dropoff passanger on (0)$\\text{RED}_{11}$, (1)$\\text{GREEN}_{15}$, (2)$\\text{YELLOW}_{51}$, (3)$\\text{BLUE}_{54}$.\n",
    "That means that the passanger can be on all these stats, and additionally (4)$\\text{in taxi}$.\n",
    "\n",
    "The grid is **5x5** resulting in **25** different locations for the taxi.\n",
    "\n",
    "$4_{destinations} * 5_{passanger_locations} * 25_{nodes} = 500_{states}$"
   ]
  },
  {
   "cell_type": "code",
   "execution_count": 3,
   "metadata": {},
   "outputs": [],
   "source": [
    "basic = BasicQLearningAgent(\n",
    "    LEARNING_RATE=0.4,\n",
    "    DISCOUNT_FACTOR=0.6,\n",
    "    EPSILON=1.0,\n",
    "    EPSILON_DECAY=0.0001,\n",
    "    EPSILON_MIN=0.01\n",
    ")\n",
    "\n",
    "Taxi.run(basic, n_episodes=1000, is_training=True)\n",
    "Taxi.run(basic, n_episodes=2, is_training=False)\n"
   ]
  },
  {
   "cell_type": "code",
   "execution_count": 3,
   "metadata": {},
   "outputs": [
    {
     "ename": "NameError",
     "evalue": "name 'DeepQLearningAgent' is not defined",
     "output_type": "error",
     "traceback": [
      "\u001b[0;31m---------------------------------------------------------------------------\u001b[0m",
      "\u001b[0;31mNameError\u001b[0m                                 Traceback (most recent call last)",
      "Cell \u001b[0;32mIn[3], line 1\u001b[0m\n\u001b[0;32m----> 1\u001b[0m deep \u001b[38;5;241m=\u001b[39m \u001b[43mDeepQLearningAgent\u001b[49m(\n\u001b[1;32m      2\u001b[0m     LEARNING_RATE\u001b[38;5;241m=\u001b[39m\u001b[38;5;241m0.4\u001b[39m,\n\u001b[1;32m      3\u001b[0m     DISCOUNT_FACTOR\u001b[38;5;241m=\u001b[39m\u001b[38;5;241m0.6\u001b[39m,\n\u001b[1;32m      4\u001b[0m     EPSILON\u001b[38;5;241m=\u001b[39m\u001b[38;5;241m1.0\u001b[39m,\n\u001b[1;32m      5\u001b[0m     EPSILON_DECAY\u001b[38;5;241m=\u001b[39m\u001b[38;5;241m0.0001\u001b[39m,\n\u001b[1;32m      6\u001b[0m     EPSILON_MIN\u001b[38;5;241m=\u001b[39m\u001b[38;5;241m0.01\u001b[39m,\n\u001b[1;32m      7\u001b[0m     BATCH_SIZE\u001b[38;5;241m=\u001b[39m\u001b[38;5;241m32\u001b[39m\n\u001b[1;32m      8\u001b[0m )\n\u001b[1;32m     10\u001b[0m Taxi\u001b[38;5;241m.\u001b[39mrun(deep, n_episodes\u001b[38;5;241m=\u001b[39m\u001b[38;5;241m10000\u001b[39m, is_training\u001b[38;5;241m=\u001b[39m\u001b[38;5;28;01mTrue\u001b[39;00m)\n\u001b[1;32m     11\u001b[0m Taxi\u001b[38;5;241m.\u001b[39mrun(deep, n_episodes\u001b[38;5;241m=\u001b[39m\u001b[38;5;241m2\u001b[39m, is_training\u001b[38;5;241m=\u001b[39m\u001b[38;5;28;01mFalse\u001b[39;00m)\n",
      "\u001b[0;31mNameError\u001b[0m: name 'DeepQLearningAgent' is not defined"
     ]
    }
   ],
   "source": [
    "deep = DeepQLearningAgent(\n",
    "    LEARNING_RATE=0.4,\n",
    "    DISCOUNT_FACTOR=0.6,\n",
    "    EPSILON=1.0,\n",
    "    EPSILON_DECAY=0.0001,\n",
    "    EPSILON_MIN=0.01,\n",
    "    BATCH_SIZE=32\n",
    ")\n",
    "\n",
    "Taxi.run(deep, n_episodes=10000, is_training=True)\n",
    "Taxi.run(deep, n_episodes=2, is_training=False)"
   ]
  },
  {
   "cell_type": "code",
   "execution_count": null,
   "metadata": {},
   "outputs": [],
   "source": []
  }
 ],
 "metadata": {
  "kernelspec": {
   "display_name": "acit4610_4",
   "language": "python",
   "name": "python3"
  },
  "language_info": {
   "codemirror_mode": {
    "name": "ipython",
    "version": 3
   },
   "file_extension": ".py",
   "mimetype": "text/x-python",
   "name": "python",
   "nbconvert_exporter": "python",
   "pygments_lexer": "ipython3",
   "version": "3.11.9"
  }
 },
 "nbformat": 4,
 "nbformat_minor": 2
}
